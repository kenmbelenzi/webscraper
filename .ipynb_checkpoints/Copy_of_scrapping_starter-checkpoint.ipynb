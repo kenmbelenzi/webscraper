{
  "nbformat": 4,
  "nbformat_minor": 0,
  "metadata": {
    "kernelspec": {
      "display_name": "Python [conda env:.conda-10x]",
      "language": "python",
      "name": "conda-env-.conda-10x-py"
    },
    "language_info": {
      "codemirror_mode": {
        "name": "ipython",
        "version": 3
      },
      "file_extension": ".py",
      "mimetype": "text/x-python",
      "name": "python",
      "nbconvert_exporter": "python",
      "pygments_lexer": "ipython3",
      "version": "3.7.3"
    },
    "colab": {
      "name": "Copy of scrapping_starter.ipynb",
      "provenance": []
    }
  },
  "cells": [
    {
      "cell_type": "markdown",
      "metadata": {
        "id": "dUCpLke14oDP",
        "colab_type": "text"
      },
      "source": [
        "## Web scrapping using python\n",
        "\n",
        "#### References\n",
        "1. [Practical Introduction to Web Scraping in Python](https://realpython.com/python-web-scraping-practical-introduction/)\n",
        "2. [Web Scraping using Python](https://www.datacamp.com/community/tutorials/web-scraping-using-python)"
      ]
    },
    {
      "cell_type": "code",
      "metadata": {
        "id": "pFHBVwTG4oDQ",
        "colab_type": "code",
        "colab": {}
      },
      "source": [
        "# $ python3 -m venv venv\n",
        "# $ . ./venv/bin/activate"
      ],
      "execution_count": null,
      "outputs": []
    },
    {
      "cell_type": "code",
      "metadata": {
        "id": "w-VauvNw4oDU",
        "colab_type": "code",
        "colab": {
          "base_uri": "https://localhost:8080/",
          "height": 170
        },
        "outputId": "11a7a12b-a179-4cb1-ef9b-79e0e6e49389"
      },
      "source": [
        "#Better\n",
        "!pip install requests BeautifulSoup4 fire"
      ],
      "execution_count": null,
      "outputs": [
        {
          "output_type": "stream",
          "text": [
            "Requirement already satisfied: requests in /usr/local/lib/python3.6/dist-packages (2.23.0)\n",
            "Requirement already satisfied: BeautifulSoup4 in /usr/local/lib/python3.6/dist-packages (4.6.3)\n",
            "Requirement already satisfied: fire in /usr/local/lib/python3.6/dist-packages (0.3.1)\n",
            "Requirement already satisfied: chardet<4,>=3.0.2 in /usr/local/lib/python3.6/dist-packages (from requests) (3.0.4)\n",
            "Requirement already satisfied: idna<3,>=2.5 in /usr/local/lib/python3.6/dist-packages (from requests) (2.10)\n",
            "Requirement already satisfied: urllib3!=1.25.0,!=1.25.1,<1.26,>=1.21.1 in /usr/local/lib/python3.6/dist-packages (from requests) (1.24.3)\n",
            "Requirement already satisfied: certifi>=2017.4.17 in /usr/local/lib/python3.6/dist-packages (from requests) (2020.6.20)\n",
            "Requirement already satisfied: termcolor in /usr/local/lib/python3.6/dist-packages (from fire) (1.1.0)\n",
            "Requirement already satisfied: six in /usr/local/lib/python3.6/dist-packages (from fire) (1.12.0)\n"
          ],
          "name": "stdout"
        }
      ]
    },
    {
      "cell_type": "code",
      "metadata": {
        "id": "6aWLicD74oDY",
        "colab_type": "code",
        "colab": {}
      },
      "source": [
        "from requests import get\n",
        "from requests.exceptions import RequestException\n",
        "from contextlib import closing\n",
        "from bs4 import BeautifulSoup\n",
        "import pandas as pd\n",
        "import os, sys\n",
        "\n",
        "import fire"
      ],
      "execution_count": null,
      "outputs": []
    },
    {
      "cell_type": "code",
      "metadata": {
        "id": "BPub8xaG4oDb",
        "colab_type": "code",
        "colab": {}
      },
      "source": [
        "#%%writefile ../pyscrap_url.py\n",
        "\n",
        "def simple_get(url):\n",
        "    \"\"\"\n",
        "    Attempts to get the content at `url` by making an HTTP GET request.\n",
        "    If the content-type of response is some kind of HTML/XML, return the\n",
        "    text content, otherwise return None.\n",
        "    \"\"\"\n",
        "    try:\n",
        "        with closing(get(url, stream=True)) as resp:\n",
        "            if is_good_response(resp):\n",
        "                return resp.content  #.encode(BeautifulSoup.original_encoding)\n",
        "            else:\n",
        "                return None\n",
        "\n",
        "    except RequestException as e:\n",
        "        log_error('Error during requests to {0} : {1}'.format(url, str(e)))\n",
        "        return None\n",
        "\n",
        "\n",
        "def is_good_response(resp):\n",
        "    \"\"\"\n",
        "    Returns True if the response seems to be HTML, False otherwise.\n",
        "    \"\"\"\n",
        "    content_type = resp.headers['Content-Type'].lower()\n",
        "    return (resp.status_code == 200 \n",
        "            and content_type is not None \n",
        "            and content_type.find('html') > -1)\n",
        "\n",
        "\n",
        "def log_error(e):\n",
        "    \"\"\"\n",
        "    It is always a good idea to log errors. \n",
        "    This function just prints them, but you can\n",
        "    make it do anything.\n",
        "    \"\"\"\n",
        "    print(e)\n",
        "    \n",
        "def get_tag_elements(url, tag='',search={}, fname=None):\n",
        "    \"\"\"\n",
        "    Downloads a page specified by the url parameter\n",
        "    and returns a list of strings, one per tag element\n",
        "    \"\"\"\n",
        "    \n",
        "    if isinstance(url,str):\n",
        "        response = simple_get(url)\n",
        "    else:\n",
        "        #if already it is a loaded html page\n",
        "        response = url\n",
        "\n",
        "    if response is not None:\n",
        "        html = BeautifulSoup(response, 'html.parser')\n",
        "        \n",
        "        res = []\n",
        "        if tag:    \n",
        "            for li in html.select(tag):\n",
        "                for name in li.text.split('\\n'):\n",
        "                    if len(name) > 0:\n",
        "                        res.append(name.strip())\n",
        "                       \n",
        "                \n",
        "        if search:\n",
        "            soup = html            \n",
        "            \n",
        "            \n",
        "            r = ''\n",
        "            if 'find' in search.keys():\n",
        "                print('findaing',search['find'])\n",
        "                soup = soup.find(**search['find'])\n",
        "                r = soup\n",
        "\n",
        "                \n",
        "            if 'find_all' in search.keys():\n",
        "                print('findaing all of',search['find_all'])\n",
        "                r = soup.find_all(**search['find_all'])\n",
        "   \n",
        "            if r:\n",
        "                for x in list(r):\n",
        "                    if len(x) > 0:\n",
        "                        res.extend(x)\n",
        "            \n",
        "        return res\n",
        "\n",
        "    # Raise an exception if we failed to get any data from the url\n",
        "    raise Exception('Error retrieving contents at {}'.format(url))    \n",
        "    \n",
        "    \n",
        "if get_ipython().__class__.__name__ == '__main__':\n",
        "    fire(get_tag_elements)"
      ],
      "execution_count": null,
      "outputs": []
    },
    {
      "cell_type": "code",
      "metadata": {
        "id": "Fl-cgdXXnn_Z",
        "colab_type": "code",
        "colab": {
          "base_uri": "https://localhost:8080/",
          "height": 359
        },
        "outputId": "6b8b80f7-eb5b-48b2-e607-378b27d58d4a"
      },
      "source": [
        "res = get_tag_elements('https://africafreak.com/100-most-influential-twitter-users-in-africa','h2')\n",
        "df = pd.DataFrame(res)\n",
        "df.head(10)"
      ],
      "execution_count": null,
      "outputs": [
        {
          "output_type": "execute_result",
          "data": {
            "text/html": [
              "<div>\n",
              "<style scoped>\n",
              "    .dataframe tbody tr th:only-of-type {\n",
              "        vertical-align: middle;\n",
              "    }\n",
              "\n",
              "    .dataframe tbody tr th {\n",
              "        vertical-align: top;\n",
              "    }\n",
              "\n",
              "    .dataframe thead th {\n",
              "        text-align: right;\n",
              "    }\n",
              "</style>\n",
              "<table border=\"1\" class=\"dataframe\">\n",
              "  <thead>\n",
              "    <tr style=\"text-align: right;\">\n",
              "      <th></th>\n",
              "      <th>0</th>\n",
              "    </tr>\n",
              "  </thead>\n",
              "  <tbody>\n",
              "    <tr>\n",
              "      <th>0</th>\n",
              "      <td>100. Jeffrey Gettleman (@gettleman)</td>\n",
              "    </tr>\n",
              "    <tr>\n",
              "      <th>1</th>\n",
              "      <td>99. Africa24 Media (@a24media)</td>\n",
              "    </tr>\n",
              "    <tr>\n",
              "      <th>2</th>\n",
              "      <td>98. Scapegoat (@andiMakinana)</td>\n",
              "    </tr>\n",
              "    <tr>\n",
              "      <th>3</th>\n",
              "      <td>97. Africa Check (@AfricaCheck)</td>\n",
              "    </tr>\n",
              "    <tr>\n",
              "      <th>4</th>\n",
              "      <td>96. James Copnall (@JamesCopnall)</td>\n",
              "    </tr>\n",
              "    <tr>\n",
              "      <th>5</th>\n",
              "      <td>95. Online Africa (@oafrica)</td>\n",
              "    </tr>\n",
              "    <tr>\n",
              "      <th>6</th>\n",
              "      <td>94. Patrick Ngowi (@PatrickNgowi)</td>\n",
              "    </tr>\n",
              "    <tr>\n",
              "      <th>7</th>\n",
              "      <td>93. DOS African Affairs (@StateAfrica)</td>\n",
              "    </tr>\n",
              "    <tr>\n",
              "      <th>8</th>\n",
              "      <td>92. MoadowAJE (@Moadow)</td>\n",
              "    </tr>\n",
              "    <tr>\n",
              "      <th>9</th>\n",
              "      <td>91. Brendan Boyle (@BrendanSAfrica)</td>\n",
              "    </tr>\n",
              "  </tbody>\n",
              "</table>\n",
              "</div>"
            ],
            "text/plain": [
              "                                        0\n",
              "0     100. Jeffrey Gettleman (@gettleman)\n",
              "1          99. Africa24 Media (@a24media)\n",
              "2           98. Scapegoat (@andiMakinana)\n",
              "3         97. Africa Check (@AfricaCheck)\n",
              "4       96. James Copnall (@JamesCopnall)\n",
              "5            95. Online Africa (@oafrica)\n",
              "6       94. Patrick Ngowi (@PatrickNgowi)\n",
              "7  93. DOS African Affairs (@StateAfrica)\n",
              "8                 92. MoadowAJE (@Moadow)\n",
              "9     91. Brendan Boyle (@BrendanSAfrica)"
            ]
          },
          "metadata": {
            "tags": []
          },
          "execution_count": 114
        }
      ]
    },
    {
      "cell_type": "code",
      "metadata": {
        "jupyter": {
          "outputs_hidden": true
        },
        "id": "HYU8EbHE4oDe",
        "colab_type": "code",
        "colab": {
          "base_uri": "https://localhost:8080/",
          "height": 221
        },
        "outputId": "b2968f67-bc9f-4792-f9d9-6a8f767af18b"
      },
      "source": [
        "\n",
        "# cleaning the data\n",
        "df1 = df[0].str.split('.',expand = True)\n",
        "df1.head(10)\n",
        "#header = [['position','name','username']]\n",
        "#df2=pd.DataFrame(header)\n",
        "#frames= [df2, df1]\n",
        "#df3=pd.concat(frames)\n",
        "#print(df3.head(10))\n",
        "#df4 = df3[1].str.split('(',expand = True)\n",
        "#df4.head(10)\n",
        "df2 = df1[1].str.split('(',expand = True)\n",
        "df2.head(10)\n",
        "df3 = df2[1].str.split(')',expand = True)\n",
        "df3.tail(20)\n",
        "df4 = df3.dropna(axis=0, how='any')\n",
        "df5 = df4[0].replace('@','', regex=True)\n",
        "df5"
      ],
      "execution_count": null,
      "outputs": [
        {
          "output_type": "execute_result",
          "data": {
            "text/plain": [
              "0           gettleman\n",
              "1            a24media\n",
              "2        andiMakinana\n",
              "3         AfricaCheck\n",
              "4        JamesCopnall\n",
              "           ...       \n",
              "94         helenzille\n",
              "95    Julius_S_Malema\n",
              "96             News24\n",
              "98        GarethCliff\n",
              "99         Trevornoah\n",
              "Name: 0, Length: 99, dtype: object"
            ]
          },
          "metadata": {
            "tags": []
          },
          "execution_count": 118
        }
      ]
    },
    {
      "cell_type": "markdown",
      "metadata": {
        "id": "9P1bQmRnUlp0",
        "colab_type": "text"
      },
      "source": [
        "**Extracting Twitter data**"
      ]
    },
    {
      "cell_type": "code",
      "metadata": {
        "id": "6OY7fmocUxNs",
        "colab_type": "code",
        "colab": {}
      },
      "source": [
        "import tweepy\n",
        "from tweepy import OAuthHandler\n",
        "from tweepy import API\n",
        "from tweepy import Cursor\n",
        "from datetime import datetime, date, time, timedelta\n",
        "from collections import Counter\n",
        "import sys"
      ],
      "execution_count": null,
      "outputs": []
    },
    {
      "cell_type": "code",
      "metadata": {
        "id": "_Bh2LfKFUyC_",
        "colab_type": "code",
        "colab": {
          "base_uri": "https://localhost:8080/",
          "height": 1000
        },
        "outputId": "e69ab963-9500-47b3-8cfc-2117f9cfd453"
      },
      "source": [
        "\n",
        "consumer_key = 'OwaWIDBtZ6QOIFjcTH5i6tKPZ'\n",
        "consumer_secret = 'zsSqmcWmysfz42VgTlw401KmLNAYI2tvEUTW2ISX5vHnyoRHx8'\n",
        "access_token = '275506568-ASxyT5sfrVXM17QIlGL5j2Ws2Qv2PHIyH4Fc8U0M'\n",
        "access_token_secret = 'TE8xLOJQFD8uZrqS8xq3akXKy1aOBkVC6uOQ6A52Cvnc4'\n",
        "auth = OAuthHandler(consumer_key, consumer_secret)\n",
        "auth.set_access_token(access_token, access_token_secret)\n",
        "auth_api = API(auth)\n",
        "\n",
        "\n",
        "for target in df5:\n",
        "    print(\"Getting data for \" + target)\n",
        "    item = auth_api.get_user(target)\n",
        "    print(\"name: \" + item.name)\n",
        "    print(\"screen_name: \" + item.screen_name)\n",
        "    print(\"description: \" + item.description)\n",
        "    print(\"statuses_count: \" + str(item.statuses_count))\n",
        "    print(\"friends_count: \" + str(item.friends_count))\n",
        "    print(\"followers_count: \" + str(item.followers_count))"
      ],
      "execution_count": null,
      "outputs": [
        {
          "output_type": "stream",
          "text": [
            "Getting data for gettleman\n",
            "name: Jeffrey Gettleman\n",
            "screen_name: gettleman\n",
            "description: South Asia bureau chief for the New York Times. Author of Love, Africa, a memoir. Winner of the Pulitzer Prize. Retweets do not equal endorsements.\n",
            "statuses_count: 3766\n",
            "friends_count: 37\n",
            "followers_count: 25707\n",
            "Getting data for a24media\n",
            "name: A24 Media\n",
            "screen_name: a24media\n",
            "description: Africa 24 produces compelling content that makes people want to peek, or gawk, or listen up. Our video creates emotion. Our shows make you think.\n",
            "\n",
            "@yebo_live\n",
            "statuses_count: 16846\n",
            "friends_count: 3057\n",
            "followers_count: 31287\n",
            "Getting data for andiMakinana\n",
            "name: Scapegoat\n",
            "screen_name: AndiMakinana\n",
            "description: In pursuit of scoops. I do not write headlines. In an abusive relationship with the mighty and glorious Buccaneers @Orlando_Pirates. @MikeTyson is the greatest.\n",
            "statuses_count: 142161\n",
            "friends_count: 2836\n",
            "followers_count: 101126\n",
            "Getting data for AfricaCheck\n",
            "name: Africa Check\n",
            "screen_name: AfricaCheck\n",
            "description: Africa's first independent fact-checking website. Keeping debate honest. Seen a claim that needs to be fact-checked? Use #AfricaCheckIt to tweet us.\n",
            "statuses_count: 27287\n",
            "friends_count: 4594\n",
            "followers_count: 68020\n",
            "Getting data for JamesCopnall\n",
            "name: James Copnall\n",
            "screen_name: JamesCopnall\n",
            "description: BBC reporter + presenter. Author A Poisonous Thorn in our Hearts, on #Sudan #SouthSudan. Ex BBC Correspondent in Sudans, Ivory Coast, Morocco. Usual disclaimers\n",
            "statuses_count: 19431\n",
            "friends_count: 5045\n",
            "followers_count: 21953\n",
            "Getting data for oafrica\n",
            "name: Online Africa\n",
            "screen_name: oafrica\n",
            "description: Tracks and supports Africa's Internet progress. Mobile too. Loves data. Doesn't take bandwidth for granted.\n",
            "statuses_count: 6864\n",
            "friends_count: 2879\n",
            "followers_count: 31303\n",
            "Getting data for PatrickNgowi\n",
            "name: Patrick Ngowi\n",
            "screen_name: PatrickNgowi\n",
            "description: \n",
            "statuses_count: 1638\n",
            "friends_count: 179\n",
            "followers_count: 22798\n",
            "Getting data for StateAfrica\n",
            "name: SEO Expert Vancouver\n",
            "screen_name: stateafrica\n",
            "description: \n",
            "statuses_count: 1\n",
            "friends_count: 0\n",
            "followers_count: 8\n",
            "Getting data for Moadow\n",
            "name: Mohammed Adow\n",
            "screen_name: Moadow\n",
            "description: Senior Aljazeera Correspondent. All views here are my own.\n",
            "statuses_count: 21545\n",
            "friends_count: 1731\n",
            "followers_count: 50953\n",
            "Getting data for BrendanSAfrica\n",
            "name: Brendan Boyle\n",
            "screen_name: BrendanSAfrica\n",
            "description: South African researcher, reporter, editor, analyst and commentator on politics, the economy and land rights.\n",
            "statuses_count: 3892\n",
            "friends_count: 366\n",
            "followers_count: 28461\n",
            "Getting data for CityTshwane\n",
            "name: City of Tshwane\n",
            "screen_name: CityTshwane\n",
            "description: Welcome to the City of Tshwane, an African City of excellence, the seat of South African government and the capital city of the rainbow nation.\n",
            "statuses_count: 81081\n",
            "friends_count: 2927\n",
            "followers_count: 438148\n",
            "Getting data for VISI_Mag\n",
            "name: VISI Magazine\n",
            "screen_name: VISI_Mag\n",
            "description: South Africa's premium decor, design and architecture magazine.\n",
            "statuses_count: 16880\n",
            "friends_count: 1817\n",
            "followers_count: 52900\n",
            "Getting data for andBeyondSafari\n"
          ],
          "name": "stdout"
        },
        {
          "output_type": "error",
          "ename": "TweepError",
          "evalue": "ignored",
          "traceback": [
            "\u001b[0;31m---------------------------------------------------------------------------\u001b[0m",
            "\u001b[0;31mTweepError\u001b[0m                                Traceback (most recent call last)",
            "\u001b[0;32m<ipython-input-119-e2aadf31e2a6>\u001b[0m in \u001b[0;36m<module>\u001b[0;34m()\u001b[0m\n\u001b[1;32m     11\u001b[0m \u001b[0;32mfor\u001b[0m \u001b[0mtarget\u001b[0m \u001b[0;32min\u001b[0m \u001b[0mdf5\u001b[0m\u001b[0;34m:\u001b[0m\u001b[0;34m\u001b[0m\u001b[0;34m\u001b[0m\u001b[0m\n\u001b[1;32m     12\u001b[0m     \u001b[0mprint\u001b[0m\u001b[0;34m(\u001b[0m\u001b[0;34m\"Getting data for \"\u001b[0m \u001b[0;34m+\u001b[0m \u001b[0mtarget\u001b[0m\u001b[0;34m)\u001b[0m\u001b[0;34m\u001b[0m\u001b[0;34m\u001b[0m\u001b[0m\n\u001b[0;32m---> 13\u001b[0;31m     \u001b[0mitem\u001b[0m \u001b[0;34m=\u001b[0m \u001b[0mauth_api\u001b[0m\u001b[0;34m.\u001b[0m\u001b[0mget_user\u001b[0m\u001b[0;34m(\u001b[0m\u001b[0mtarget\u001b[0m\u001b[0;34m)\u001b[0m\u001b[0;34m\u001b[0m\u001b[0;34m\u001b[0m\u001b[0m\n\u001b[0m\u001b[1;32m     14\u001b[0m     \u001b[0mprint\u001b[0m\u001b[0;34m(\u001b[0m\u001b[0;34m\"name: \"\u001b[0m \u001b[0;34m+\u001b[0m \u001b[0mitem\u001b[0m\u001b[0;34m.\u001b[0m\u001b[0mname\u001b[0m\u001b[0;34m)\u001b[0m\u001b[0;34m\u001b[0m\u001b[0;34m\u001b[0m\u001b[0m\n\u001b[1;32m     15\u001b[0m     \u001b[0mprint\u001b[0m\u001b[0;34m(\u001b[0m\u001b[0;34m\"screen_name: \"\u001b[0m \u001b[0;34m+\u001b[0m \u001b[0mitem\u001b[0m\u001b[0;34m.\u001b[0m\u001b[0mscreen_name\u001b[0m\u001b[0;34m)\u001b[0m\u001b[0;34m\u001b[0m\u001b[0;34m\u001b[0m\u001b[0m\n",
            "\u001b[0;32m/usr/local/lib/python3.6/dist-packages/tweepy/binder.py\u001b[0m in \u001b[0;36m_call\u001b[0;34m(*args, **kwargs)\u001b[0m\n\u001b[1;32m    248\u001b[0m             \u001b[0;32mreturn\u001b[0m \u001b[0mmethod\u001b[0m\u001b[0;34m\u001b[0m\u001b[0;34m\u001b[0m\u001b[0m\n\u001b[1;32m    249\u001b[0m         \u001b[0;32melse\u001b[0m\u001b[0;34m:\u001b[0m\u001b[0;34m\u001b[0m\u001b[0;34m\u001b[0m\u001b[0m\n\u001b[0;32m--> 250\u001b[0;31m             \u001b[0;32mreturn\u001b[0m \u001b[0mmethod\u001b[0m\u001b[0;34m.\u001b[0m\u001b[0mexecute\u001b[0m\u001b[0;34m(\u001b[0m\u001b[0;34m)\u001b[0m\u001b[0;34m\u001b[0m\u001b[0;34m\u001b[0m\u001b[0m\n\u001b[0m\u001b[1;32m    251\u001b[0m \u001b[0;34m\u001b[0m\u001b[0m\n\u001b[1;32m    252\u001b[0m     \u001b[0;31m# Set pagination mode\u001b[0m\u001b[0;34m\u001b[0m\u001b[0;34m\u001b[0m\u001b[0;34m\u001b[0m\u001b[0m\n",
            "\u001b[0;32m/usr/local/lib/python3.6/dist-packages/tweepy/binder.py\u001b[0m in \u001b[0;36mexecute\u001b[0;34m(self)\u001b[0m\n\u001b[1;32m    232\u001b[0m                     \u001b[0;32mraise\u001b[0m \u001b[0mRateLimitError\u001b[0m\u001b[0;34m(\u001b[0m\u001b[0merror_msg\u001b[0m\u001b[0;34m,\u001b[0m \u001b[0mresp\u001b[0m\u001b[0;34m)\u001b[0m\u001b[0;34m\u001b[0m\u001b[0;34m\u001b[0m\u001b[0m\n\u001b[1;32m    233\u001b[0m                 \u001b[0;32melse\u001b[0m\u001b[0;34m:\u001b[0m\u001b[0;34m\u001b[0m\u001b[0;34m\u001b[0m\u001b[0m\n\u001b[0;32m--> 234\u001b[0;31m                     \u001b[0;32mraise\u001b[0m \u001b[0mTweepError\u001b[0m\u001b[0;34m(\u001b[0m\u001b[0merror_msg\u001b[0m\u001b[0;34m,\u001b[0m \u001b[0mresp\u001b[0m\u001b[0;34m,\u001b[0m \u001b[0mapi_code\u001b[0m\u001b[0;34m=\u001b[0m\u001b[0mapi_error_code\u001b[0m\u001b[0;34m)\u001b[0m\u001b[0;34m\u001b[0m\u001b[0;34m\u001b[0m\u001b[0m\n\u001b[0m\u001b[1;32m    235\u001b[0m \u001b[0;34m\u001b[0m\u001b[0m\n\u001b[1;32m    236\u001b[0m             \u001b[0;31m# Parse the response payload\u001b[0m\u001b[0;34m\u001b[0m\u001b[0;34m\u001b[0m\u001b[0;34m\u001b[0m\u001b[0m\n",
            "\u001b[0;31mTweepError\u001b[0m: [{'code': 50, 'message': 'User not found.'}]"
          ]
        }
      ]
    },
    {
      "cell_type": "code",
      "metadata": {
        "id": "qEg4_do-4oDh",
        "colab_type": "code",
        "colab": {}
      },
      "source": [
        "url= 'https://www.atlanticcouncil.org/blogs/africasource/african-leaders-respond-to-coronavirus-on-twitter/#east-africa'\n",
        "response = simple_get(url)"
      ],
      "execution_count": null,
      "outputs": []
    },
    {
      "cell_type": "code",
      "metadata": {
        "id": "jrsVfOQM4oDl",
        "colab_type": "code",
        "colab": {
          "base_uri": "https://localhost:8080/",
          "height": 1000
        },
        "outputId": "c3aee346-f995-46ac-8fb3-49c59ece4c96"
      },
      "source": [
        "res = get_tag_elements(response, search={'find_all':{'class_':'wp-block-embed__wrapper'}})\n",
        "res"
      ],
      "execution_count": null,
      "outputs": [
        {
          "output_type": "stream",
          "text": [
            "findaing all of {'class_': 'wp-block-embed__wrapper'}\n"
          ],
          "name": "stdout"
        },
        {
          "output_type": "execute_result",
          "data": {
            "text/plain": [
              "['\\nhttps://twitter.com/TsholetsaDomi/status/1238324860536922112\\n',\n",
              " '\\nhttps://twitter.com/Azali_officiel/status/1239649350747332613\\n',\n",
              " '\\n',\n",
              " <blockquote class=\"twitter-tweet\" data-dnt=\"true\" data-width=\"550\"><p dir=\"ltr\" lang=\"en\">The Deputy Prime Minister Themba Masuku has today met representatives of the private sector and employees' unions to map a collaborative effort in the fight against <a href=\"https://twitter.com/hashtag/COVID19?src=hash&amp;ref_src=twsrc%5Etfw\">#COVID19</a>. <a href=\"https://t.co/EIYNGOEKRN\">pic.twitter.com/EIYNGOEKRN</a></p>— Eswatini Government (@EswatiniGovern1) <a href=\"https://twitter.com/EswatiniGovern1/status/1241038139889721346?ref_src=twsrc%5Etfw\">March 20, 2020</a></blockquote>,\n",
              " <script async=\"\" charset=\"utf-8\" src=\"https://platform.twitter.com/widgets.js\"></script>,\n",
              " '\\n',\n",
              " '\\nhttps://twitter.com/SE_Rajoelina/status/1241101811647500288\\n',\n",
              " '\\n',\n",
              " <blockquote class=\"twitter-tweet\" data-dnt=\"true\" data-width=\"550\"><p dir=\"ltr\" lang=\"en\">GUIDELINES FOR SCHOOLS IN <a href=\"https://twitter.com/hashtag/MALAWI?src=hash&amp;ref_src=twsrc%5Etfw\">#MALAWI</a> ON THE PREVENTION AND MANAGEMENT OF <a href=\"https://twitter.com/hashtag/COVID19?src=hash&amp;ref_src=twsrc%5Etfw\">#COVID19</a> <a href=\"https://twitter.com/hashtag/CORONAVIRUS?src=hash&amp;ref_src=twsrc%5Etfw\">#CORONAVIRUS</a> <a href=\"https://t.co/PL9R4XvGV3\">pic.twitter.com/PL9R4XvGV3</a></p>— Malawi Government (@MalawiGovt) <a href=\"https://twitter.com/MalawiGovt/status/1240275631323185152?ref_src=twsrc%5Etfw\">March 18, 2020</a></blockquote>,\n",
              " <script async=\"\" charset=\"utf-8\" src=\"https://platform.twitter.com/widgets.js\"></script>,\n",
              " '\\n',\n",
              " '\\nhttps://twitter.com/PKJugnauth/status/1240740484714319872\\n',\n",
              " '\\n',\n",
              " <blockquote class=\"twitter-tweet\" data-dnt=\"true\" data-width=\"550\"><p dir=\"ltr\" lang=\"en\">Fellow Namibians, I declared a State of Emergency on <a href=\"https://twitter.com/hashtag/COVID19?src=hash&amp;ref_src=twsrc%5Etfw\">#COVID19</a>. Cabinet approved additonal measures and responses to contain the spread of the Coronavirus. <a href=\"https://t.co/OsjrguArxf\">pic.twitter.com/OsjrguArxf</a></p>— Hage G. Geingob (@hagegeingob) <a href=\"https://twitter.com/hagegeingob/status/1240272081805336577?ref_src=twsrc%5Etfw\">March 18, 2020</a></blockquote>,\n",
              " <script async=\"\" charset=\"utf-8\" src=\"https://platform.twitter.com/widgets.js\"></script>,\n",
              " '\\n',\n",
              " '\\n',\n",
              " <blockquote class=\"twitter-tweet\" data-dnt=\"true\" data-width=\"550\"><p dir=\"ltr\" lang=\"en\"><a href=\"https://twitter.com/hashtag/COVID19measuresSC?src=hash&amp;ref_src=twsrc%5Etfw\">#COVID19measuresSC</a> <a href=\"https://twitter.com/hashtag/PrivateSector?src=hash&amp;ref_src=twsrc%5Etfw\">#PrivateSector</a> \"Government will guarantee the salaries of all employees in the private sector for the months of April, May and June. A total of SCR1.2 billion has been budgeted for this intervention. Government will not approve any redundancies.\"</p>— Seychelles Ministry of Finance (@FinanceSC) <a href=\"https://twitter.com/FinanceSC/status/1241039570608828416?ref_src=twsrc%5Etfw\">March 20, 2020</a></blockquote>,\n",
              " <script async=\"\" charset=\"utf-8\" src=\"https://platform.twitter.com/widgets.js\"></script>,\n",
              " '\\n',\n",
              " '\\n',\n",
              " <blockquote class=\"twitter-tweet\" data-dnt=\"true\" data-width=\"550\"><p dir=\"ltr\" lang=\"en\">The Minister for Cooperative Governance &amp; Traditional Affairs (COGTA) has, in terms of section 3 of the Disaster Management Act, 2002 (Act No. 57 of 2002), made the and gazetted regulations to deal with the spread of Regulations in the Schedule. <a href=\"https://twitter.com/hashtag/COVID19?src=hash&amp;ref_src=twsrc%5Etfw\">#COVID19</a> <a href=\"https://twitter.com/hashtag/CoronaVirusSA?src=hash&amp;ref_src=twsrc%5Etfw\">#CoronaVirusSA</a> <a href=\"https://t.co/3iPRnVebcs\">pic.twitter.com/3iPRnVebcs</a></p>— PresidencyZA (@PresidencyZA) <a href=\"https://twitter.com/PresidencyZA/status/1240502027446300674?ref_src=twsrc%5Etfw\">March 19, 2020</a></blockquote>,\n",
              " <script async=\"\" charset=\"utf-8\" src=\"https://platform.twitter.com/widgets.js\"></script>,\n",
              " '\\n',\n",
              " '\\n',\n",
              " <blockquote class=\"twitter-tweet\" data-dnt=\"true\" data-width=\"550\"><p dir=\"ltr\" lang=\"en\">Join the <a href=\"https://twitter.com/hashtag/SafeHands?src=hash&amp;ref_src=twsrc%5Etfw\">#SafeHands</a>  Challenge. The key is preventing the spread of <a href=\"https://twitter.com/hashtag/COVID19?src=hash&amp;ref_src=twsrc%5Etfw\">#COVID19</a> <a href=\"https://twitter.com/Dora_Siliya?ref_src=twsrc%5Etfw\">@Dora_Siliya</a> <a href=\"https://twitter.com/ChitaluChilufy3?ref_src=twsrc%5Etfw\">@ChitaluChilufy3</a> <a href=\"https://twitter.com/noalaskinner?ref_src=twsrc%5Etfw\">@noalaskinner</a> <a href=\"https://twitter.com/coumbagadio_ZM?ref_src=twsrc%5Etfw\">@coumbagadio_ZM</a> <a href=\"https://twitter.com/unicefzambia?ref_src=twsrc%5Etfw\">@unicefzambia</a> <a href=\"https://twitter.com/UNZambia?ref_src=twsrc%5Etfw\">@UNZambia</a> <a href=\"https://t.co/vLoc72v5Np\">pic.twitter.com/vLoc72v5Np</a></p>— Ministry of Health Zambia (@mohzambia) <a href=\"https://twitter.com/mohzambia/status/1240292737892732931?ref_src=twsrc%5Etfw\">March 18, 2020</a></blockquote>,\n",
              " <script async=\"\" charset=\"utf-8\" src=\"https://platform.twitter.com/widgets.js\"></script>,\n",
              " '\\n',\n",
              " '\\n',\n",
              " <blockquote class=\"twitter-tweet\" data-dnt=\"true\" data-width=\"550\"><p dir=\"ltr\" lang=\"en\">I urge my fellow Zimbabweans to maintain excellent levels of personal hygiene. Wash your hands thoroughly with soap, cover your nose &amp; mouth with a tissue when you cough, &amp; avoid unnecessary travel abroad.  We must keep our nation, safe, secure &amp; healthy.</p>— President of Zimbabwe (@edmnangagwa) <a href=\"https://twitter.com/edmnangagwa/status/1237958955080519680?ref_src=twsrc%5Etfw\">March 12, 2020</a></blockquote>,\n",
              " <script async=\"\" charset=\"utf-8\" src=\"https://platform.twitter.com/widgets.js\"></script>,\n",
              " '\\n',\n",
              " '\\n',\n",
              " <blockquote class=\"twitter-tweet\" data-dnt=\"true\" data-width=\"550\"><p dir=\"ltr\" lang=\"fr\"><a href=\"https://twitter.com/hashtag/COVID19DJ?src=hash&amp;ref_src=twsrc%5Etfw\">#COVID19DJ</a> : FERMETURE DES MOSQUÉES<br/><br/>Voici Communiqué du Ministère des affaires musulmanes et des biens Warkfs. <a href=\"https://t.co/AQ2kQP254j\">pic.twitter.com/AQ2kQP254j</a></p>— MinSantédj (@MinSantedj) <a href=\"https://twitter.com/MinSantedj/status/1241062742611681281?ref_src=twsrc%5Etfw\">March 20, 2020</a></blockquote>,\n",
              " <script async=\"\" charset=\"utf-8\" src=\"https://platform.twitter.com/widgets.js\"></script>,\n",
              " '\\n',\n",
              " '\\n',\n",
              " <blockquote class=\"twitter-tweet\" data-dnt=\"true\" data-width=\"550\"><p dir=\"ltr\" lang=\"en\">The Ministry of Health announced this evening the first confirmed case of a Coronavirus patient who arrived at Asmara International Airport from Norway with Fly Dubai at 7:00 a.m. LT this morning.  The 39-year old patient is an Eritrean national with permanent residence in Norway</p>— Yemane G. Meskel (@hawelti) <a href=\"https://twitter.com/hawelti/status/1241426444754063366?ref_src=twsrc%5Etfw\">March 21, 2020</a></blockquote>,\n",
              " <script async=\"\" charset=\"utf-8\" src=\"https://platform.twitter.com/widgets.js\"></script>,\n",
              " '\\n',\n",
              " '\\nhttps://twitter.com/AbiyAhmedAli/status/1240291553056260099\\n',\n",
              " '\\n',\n",
              " <blockquote class=\"twitter-tweet\" data-dnt=\"true\" data-width=\"550\"><p dir=\"ltr\" lang=\"en\">Please join His Excellency President Uhuru Kenyatta this Saturday, 21st March 2020 at 12 noon for a broadcast prayer service to mark the National Day of Prayer on the Coronavirus pandemic. The Service will be led by a cross-section of religious leaders. <a href=\"https://t.co/kDZPDUpeGz\">pic.twitter.com/kDZPDUpeGz</a></p>— State House Kenya (@StateHouseKenya) <a href=\"https://twitter.com/StateHouseKenya/status/1240905037435547649?ref_src=twsrc%5Etfw\">March 20, 2020</a></blockquote>,\n",
              " <script async=\"\" charset=\"utf-8\" src=\"https://platform.twitter.com/widgets.js\"></script>,\n",
              " '\\n',\n",
              " '\\n',\n",
              " <blockquote class=\"twitter-tweet\" data-dnt=\"true\" data-width=\"550\"><p dir=\"ltr\" lang=\"en\">I joined <a href=\"https://twitter.com/WHO?ref_src=twsrc%5Etfw\">@WHO</a> <a href=\"https://twitter.com/hashtag/SafeHands?src=hash&amp;ref_src=twsrc%5Etfw\">#SafeHands</a> challenge. Handwashing is key to preventing the spread of <a href=\"https://twitter.com/hashtag/COVID19?src=hash&amp;ref_src=twsrc%5Etfw\">#COVID19</a>. I challenge President Kenyatta <a href=\"https://twitter.com/StateHouseKenya?ref_src=twsrc%5Etfw\">@StateHouseKenya</a>, <a href=\"https://twitter.com/Macky_Sall?ref_src=twsrc%5Etfw\">@Macky_Sall</a>, <a href=\"https://twitter.com/MagufuliJP?ref_src=twsrc%5Etfw\">@MagufuliJP</a>, President Tshisekedi <a href=\"https://twitter.com/Presidence_RDC?ref_src=twsrc%5Etfw\">@Presidence_RDC</a>,  <a href=\"https://twitter.com/CyrilRamaphosa?ref_src=twsrc%5Etfw\">@CyrilRamaphosa</a>, <a href=\"https://twitter.com/BorisJohnson?ref_src=twsrc%5Etfw\">@BorisJohnson</a>, <a href=\"https://twitter.com/KGeorgieva?ref_src=twsrc%5Etfw\">@KGeorgieva</a> to join in by sharing a video <a href=\"https://t.co/udaVPCexCJ\">pic.twitter.com/udaVPCexCJ</a></p>— Paul Kagame (@PaulKagame) <a href=\"https://twitter.com/PaulKagame/status/1239263206691999748?ref_src=twsrc%5Etfw\">March 15, 2020</a></blockquote>,\n",
              " <script async=\"\" charset=\"utf-8\" src=\"https://platform.twitter.com/widgets.js\"></script>,\n",
              " '\\n',\n",
              " '\\n',\n",
              " <blockquote class=\"twitter-tweet\" data-dnt=\"true\" data-width=\"550\"><p dir=\"ltr\" lang=\"en\">We commend all medical practitioners across the globe working hard to counter the <a href=\"https://twitter.com/hashtag/CoronavirusPandemic?src=hash&amp;ref_src=twsrc%5Etfw\">#CoronavirusPandemic</a>. I urge everyone to support all efforts and recommended medical measures to slow the spread of <a href=\"https://twitter.com/hashtag/COVID19?src=hash&amp;ref_src=twsrc%5Etfw\">#COVID19</a> and keep the numbers low. <a href=\"https://t.co/AFtDg7Vtoo\">pic.twitter.com/AFtDg7Vtoo</a></p>— Mohamed Farmaajo (@M_Farmaajo) <a href=\"https://twitter.com/M_Farmaajo/status/1239662108519923713?ref_src=twsrc%5Etfw\">March 16, 2020</a></blockquote>,\n",
              " <script async=\"\" charset=\"utf-8\" src=\"https://platform.twitter.com/widgets.js\"></script>,\n",
              " '\\n',\n",
              " '\\n',\n",
              " <blockquote class=\"twitter-tweet\" data-dnt=\"true\" data-width=\"550\"><p dir=\"ltr\" lang=\"en\">20 March 2020: Communication from the <a href=\"https://twitter.com/hashtag/SouthSudan?src=hash&amp;ref_src=twsrc%5Etfw\">#SouthSudan</a> Presidency on the Coronavirus (COVID-19) Pandemic <br/><br/> \"South Sudan remains <a href=\"https://twitter.com/hashtag/COVID19?src=hash&amp;ref_src=twsrc%5Etfw\">#COVID19</a>-free. It is time to protect our people.\" — H.E Hussein Abdelbagi Akol, VP <a href=\"https://t.co/dZigOXyW2V\">pic.twitter.com/dZigOXyW2V</a></p>— South Sudan Government (@SouthSudanGov) <a href=\"https://twitter.com/SouthSudanGov/status/1241054039959371776?ref_src=twsrc%5Etfw\">March 20, 2020</a></blockquote>,\n",
              " <script async=\"\" charset=\"utf-8\" src=\"https://platform.twitter.com/widgets.js\"></script>,\n",
              " '\\n',\n",
              " '\\n',\n",
              " <blockquote class=\"twitter-tweet\" data-dnt=\"true\" data-width=\"550\"><p dir=\"ltr\" lang=\"en\">There is no shame in not shaking hands and in social distancing, during these difficult times, we must protect ourselves and those around us.<br/>Prevention is the best cure, therefore please be sure to follow health safety and security instructions.<a href=\"https://twitter.com/hashtag/%D8%A7%D8%AD%D8%AA%D9%8A%D8%A7%D8%B7%D8%A7%D8%AA_%D8%A7%D9%84%D8%B3%D9%88%D8%AF%D8%A7%D9%86_%D9%84%D9%85%D9%86%D8%B9_%D9%83%D9%88%D8%B1%D9%88%D9%86%D8%A7?src=hash&amp;ref_src=twsrc%5Etfw\">#احتياطات_السودان_لمنع_كورونا</a> <a href=\"https://t.co/abrg7Pvb5w\">pic.twitter.com/abrg7Pvb5w</a></p>— Abdalla Hamdok (@SudanPMHamdok) <a href=\"https://twitter.com/SudanPMHamdok/status/1240656894433296385?ref_src=twsrc%5Etfw\">March 19, 2020</a></blockquote>,\n",
              " <script async=\"\" charset=\"utf-8\" src=\"https://platform.twitter.com/widgets.js\"></script>,\n",
              " '\\n',\n",
              " '\\n',\n",
              " <blockquote class=\"twitter-tweet\" data-dnt=\"true\" data-width=\"550\"><p dir=\"ltr\" lang=\"en\">We have confirmed first case of Corona patient in Tanzania. The government was prepared with isolation centers and isolation hospitals. More measures to curb the spread will continue to be announced. In the meantime, let us continue to observe health precautions.<br/><br/>Dr. H.A</p>— TanzaniaSpokesperson (@TZSpokesperson) <a href=\"https://twitter.com/TZSpokesperson/status/1239534071681859587?ref_src=twsrc%5Etfw\">March 16, 2020</a></blockquote>,\n",
              " <script async=\"\" charset=\"utf-8\" src=\"https://platform.twitter.com/widgets.js\"></script>,\n",
              " '\\n',\n",
              " '\\n',\n",
              " <blockquote class=\"twitter-tweet\" data-dnt=\"true\" data-width=\"550\"><p dir=\"ltr\" lang=\"en\">We believe that we can never do enough in the face of corona virus unless God is with us.<br/><br/>We shall hold prayers as a nation at State House, Entebbe.<br/> <br/>Join us from wherever you will be <a href=\"https://t.co/voLCrF8nPK\">pic.twitter.com/voLCrF8nPK</a></p>— Yoweri K Museveni (@KagutaMuseveni) <a href=\"https://twitter.com/KagutaMuseveni/status/1241069763582988288?ref_src=twsrc%5Etfw\">March 20, 2020</a></blockquote>,\n",
              " <script async=\"\" charset=\"utf-8\" src=\"https://platform.twitter.com/widgets.js\"></script>,\n",
              " '\\n',\n",
              " '\\n',\n",
              " <blockquote class=\"twitter-tweet\" data-dnt=\"true\" data-width=\"550\"><p dir=\"ltr\" lang=\"en\">Minister Manuel Augusto participating at SADC Council of Ministers Meeting  from the Ministry in Luanda through videoconference, due to the Coronavirus outbreak. The meeting was conducted from Dar Es Salaam,Tanzania from 16 to 18/3. Tanzania holds the current presidency of SADC. <a href=\"https://t.co/vOfLwRizKr\">pic.twitter.com/vOfLwRizKr</a></p>— MOFA/MRE -(Angola) (@angola_Mirex) <a href=\"https://twitter.com/angola_Mirex/status/1240587177903427584?ref_src=twsrc%5Etfw\">March 19, 2020</a></blockquote>,\n",
              " <script async=\"\" charset=\"utf-8\" src=\"https://platform.twitter.com/widgets.js\"></script>,\n",
              " '\\n',\n",
              " '\\n',\n",
              " <blockquote class=\"twitter-tweet\" data-dnt=\"true\" data-width=\"550\"><p dir=\"ltr\" lang=\"fr\">🔴 Une rumeur de mauvais goût sur le <a href=\"https://twitter.com/hashtag/coronavirus?src=hash&amp;ref_src=twsrc%5Etfw\">#coronavirus</a> est propagée par un ancien milicien sans-échec tout en identifiant, dans sa publication, d’honnêtes personnes, dans le but de saboter l’investissement au <a href=\"https://twitter.com/hashtag/Burundi?src=hash&amp;ref_src=twsrc%5Etfw\">#Burundi</a> et semer la panique comme ils ont l’habitude de le faire.<a href=\"https://twitter.com/hashtag/COVID19?src=hash&amp;ref_src=twsrc%5Etfw\">#COVID19</a> <a href=\"https://t.co/x4VrMaXF16\">pic.twitter.com/x4VrMaXF16</a></p>— Amb. Willy Nyamitwe (@willynyamitwe) <a href=\"https://twitter.com/willynyamitwe/status/1239240373945409540?ref_src=twsrc%5Etfw\">March 15, 2020</a></blockquote>,\n",
              " <script async=\"\" charset=\"utf-8\" src=\"https://platform.twitter.com/widgets.js\"></script>,\n",
              " '\\n',\n",
              " '\\nhttps://twitter.com/PR_Paul_BIYA/status/1239988020763398147\\n',\n",
              " '\\n',\n",
              " <blockquote class=\"twitter-tweet\" data-dnt=\"true\" data-width=\"550\"><p dir=\"ltr\" lang=\"fr\">La situation du premier patient testé positif au COVID-19 et pris en charge depuis hier par les services médicaux compétents, s'améliore, et l'Ambassade de son pays suit l'évolution de l'état de sa santé.</p>— Chérif Mahamat Zene (@Cherif_MZ) <a href=\"https://twitter.com/Cherif_MZ/status/1241057558049296385?ref_src=twsrc%5Etfw\">March 20, 2020</a></blockquote>,\n",
              " <script async=\"\" charset=\"utf-8\" src=\"https://platform.twitter.com/widgets.js\"></script>,\n",
              " '\\n',\n",
              " '\\nhttps://twitter.com/MinistereComCG/status/1239695479476293632\\n',\n",
              " '\\n',\n",
              " <blockquote class=\"twitter-tweet\" data-dnt=\"true\" data-width=\"550\"><p dir=\"ltr\" lang=\"und\"><a href=\"https://twitter.com/hashtag/RDC?src=hash&amp;ref_src=twsrc%5Etfw\">#RDC</a> 19.03.20| <a href=\"https://twitter.com/hashtag/Stop?src=hash&amp;ref_src=twsrc%5Etfw\">#Stop</a> <a href=\"https://twitter.com/hashtag/Covid_19?src=hash&amp;ref_src=twsrc%5Etfw\">#Covid_19</a> <a href=\"https://twitter.com/hashtag/COVID19RDC?src=hash&amp;ref_src=twsrc%5Etfw\">#COVID19RDC</a> <a href=\"https://twitter.com/hashtag/coronavirus?src=hash&amp;ref_src=twsrc%5Etfw\">#coronavirus</a> <a href=\"https://twitter.com/hashtag/PresidenceCD?src=hash&amp;ref_src=twsrc%5Etfw\">#PresidenceCD</a> <a href=\"https://t.co/q2dpBcX7C6\">pic.twitter.com/q2dpBcX7C6</a></p>— Présidence RDC 🇨🇩 (@Presidence_RDC) <a href=\"https://twitter.com/Presidence_RDC/status/1240736987960741889?ref_src=twsrc%5Etfw\">March 19, 2020</a></blockquote>,\n",
              " <script async=\"\" charset=\"utf-8\" src=\"https://platform.twitter.com/widgets.js\"></script>,\n",
              " '\\n',\n",
              " '\\n',\n",
              " <blockquote class=\"twitter-tweet\" data-dnt=\"true\" data-width=\"550\"><p dir=\"ltr\" lang=\"fr\">Pour ralentir la diffusion du Covid-19 au Gabon et ainsi en atténuer au maximum l'impact sur le plan sanitaire, j'ai décidé lors du conseil des ministres ce lundi de renforcer les mesures préventives. <a href=\"https://t.co/LzkrkwyorB\">pic.twitter.com/LzkrkwyorB</a></p>— Ali Bongo Ondimba (@PresidentABO) <a href=\"https://twitter.com/PresidentABO/status/1239592652242370565?ref_src=twsrc%5Etfw\">March 16, 2020</a></blockquote>,\n",
              " <script async=\"\" charset=\"utf-8\" src=\"https://platform.twitter.com/widgets.js\"></script>,\n",
              " '\\n',\n",
              " '\\n',\n",
              " <blockquote class=\"twitter-tweet\" data-dnt=\"true\" data-width=\"550\"><p dir=\"ltr\" lang=\"fr\">Pour réduire les risques de propagation du <a href=\"https://twitter.com/hashtag/Coronavirus?src=hash&amp;ref_src=twsrc%5Etfw\">#Coronavirus</a>, le <a href=\"https://twitter.com/gouvbenin?ref_src=twsrc%5Etfw\">@gouvbenin</a><br/> vous invite à adopter ces gestes barrières au <a href=\"https://twitter.com/hashtag/COVID19?src=hash&amp;ref_src=twsrc%5Etfw\">#COVID19</a> . Se protéger et protéger les autres, c'est le devoir du citoyen responsable.<br/>Toutes les infos utiles sur : <a href=\"https://t.co/eimzSLmTVF\">https://t.co/eimzSLmTVF</a> <a href=\"https://t.co/OanWPLnnDB\">pic.twitter.com/OanWPLnnDB</a></p>— Présidence du Bénin (@PresidenceBenin) <a href=\"https://twitter.com/PresidenceBenin/status/1240687767354392576?ref_src=twsrc%5Etfw\">March 19, 2020</a></blockquote>,\n",
              " <script async=\"\" charset=\"utf-8\" src=\"https://platform.twitter.com/widgets.js\"></script>,\n",
              " '\\n',\n",
              " '\\n',\n",
              " <blockquote class=\"twitter-tweet\" data-dnt=\"true\" data-width=\"550\"><p dir=\"ltr\" lang=\"fr\">J'invite mes compatriotes à adopter des mesures préventives, afin de se prémunir contre le Coronavirus et éviter sa propagation. Ensemble, adoptons des comportements individuels et collectifs adéquats, en suivant les conseils des services de santé.<a href=\"https://twitter.com/hashtag/BurkinaFaso?src=hash&amp;ref_src=twsrc%5Etfw\">#BurkinaFaso</a> <a href=\"https://twitter.com/hashtag/COVID19?src=hash&amp;ref_src=twsrc%5Etfw\">#COVID19</a> <a href=\"https://t.co/aM8y0srZqJ\">pic.twitter.com/aM8y0srZqJ</a></p>— Roch KABORE (@rochkaborepf) <a href=\"https://twitter.com/rochkaborepf/status/1237718515081248773?ref_src=twsrc%5Etfw\">March 11, 2020</a></blockquote>,\n",
              " <script async=\"\" charset=\"utf-8\" src=\"https://platform.twitter.com/widgets.js\"></script>,\n",
              " '\\n',\n",
              " '\\n',\n",
              " <blockquote class=\"twitter-tweet\" data-dnt=\"true\" data-width=\"550\"><p dir=\"ltr\" lang=\"und\"><a href=\"https://twitter.com/hashtag/preven%C3%A7%C3%A3ocovid19?src=hash&amp;ref_src=twsrc%5Etfw\">#prevençãocovid19</a> <a href=\"https://t.co/hiI3LwtWjv\">https://t.co/hiI3LwtWjv</a></p>— Presidente Cabo Verde (@PresidenciaCV) <a href=\"https://twitter.com/PresidenciaCV/status/1240985116551327744?ref_src=twsrc%5Etfw\">March 20, 2020</a></blockquote>,\n",
              " <script async=\"\" charset=\"utf-8\" src=\"https://platform.twitter.com/widgets.js\"></script>,\n",
              " '\\n',\n",
              " '\\n',\n",
              " <blockquote class=\"twitter-tweet\" data-dnt=\"true\" data-width=\"550\"><p dir=\"ltr\" lang=\"fr\">Mes chers compatriotes, face à la pandémie du Coronavirus COVID-19, adoptons les bonnes pratiques et mettons en application les mesures de prévention recommandées par le Ministère de la Santé et l’OMS. <a href=\"https://t.co/cSxzODR6Vs\">https://t.co/cSxzODR6Vs</a> <a href=\"https://t.co/tILcYxVCf8\">pic.twitter.com/tILcYxVCf8</a></p>— Alassane Ouattara (@AOuattara_PRCI) <a href=\"https://twitter.com/AOuattara_PRCI/status/1239496922219544577?ref_src=twsrc%5Etfw\">March 16, 2020</a></blockquote>,\n",
              " <script async=\"\" charset=\"utf-8\" src=\"https://platform.twitter.com/widgets.js\"></script>,\n",
              " '\\n',\n",
              " '\\n',\n",
              " <blockquote class=\"twitter-tweet\" data-dnt=\"true\" data-width=\"550\"><p dir=\"ltr\" lang=\"en\"><a href=\"https://twitter.com/hashtag/COVID19?src=hash&amp;ref_src=twsrc%5Etfw\">#COVID19</a> awareness campaign: H.E the Vice President Dr Isatou Touray. <a href=\"https://t.co/FhADcBZVsL\">pic.twitter.com/FhADcBZVsL</a></p>— State House of The Gambia (@Presidency_GMB) <a href=\"https://twitter.com/Presidency_GMB/status/1240692846119673857?ref_src=twsrc%5Etfw\">March 19, 2020</a></blockquote>,\n",
              " <script async=\"\" charset=\"utf-8\" src=\"https://platform.twitter.com/widgets.js\"></script>,\n",
              " '\\n',\n",
              " '\\n',\n",
              " <blockquote class=\"twitter-tweet\" data-dnt=\"true\" data-width=\"550\"><p dir=\"ltr\" lang=\"en\">Here are excerpts of my address to the nation on the updates taken to combat the spread of Coronavirus <a href=\"https://t.co/dkfcrrEiy5\">pic.twitter.com/dkfcrrEiy5</a></p>— Nana Akufo-Addo (@NAkufoAddo) <a href=\"https://twitter.com/NAkufoAddo/status/1239321707984367623?ref_src=twsrc%5Etfw\">March 15, 2020</a></blockquote>,\n",
              " <script async=\"\" charset=\"utf-8\" src=\"https://platform.twitter.com/widgets.js\"></script>,\n",
              " '\\n',\n",
              " '\\n',\n",
              " <blockquote class=\"twitter-tweet\" data-dnt=\"true\" data-width=\"550\"><p dir=\"ltr\" lang=\"fr\">Dans un contexte de crise <a href=\"https://twitter.com/hashtag/sanitaire?src=hash&amp;ref_src=twsrc%5Etfw\">#sanitaire</a> mondiale, j’ai pris de nouvelles mesures afin d’endiguer la propagation du <a href=\"https://twitter.com/hashtag/Covid19?src=hash&amp;ref_src=twsrc%5Etfw\">#Covid19</a> en République de <a href=\"https://twitter.com/hashtag/Guin%C3%A9e?src=hash&amp;ref_src=twsrc%5Etfw\">#Guinée</a><a href=\"https://twitter.com/hashtag/Kibaro?src=hash&amp;ref_src=twsrc%5Etfw\">#Kibaro</a> <a href=\"https://twitter.com/hashtag/Covid19GN?src=hash&amp;ref_src=twsrc%5Etfw\">#Covid19GN</a> <a href=\"https://twitter.com/hashtag/CoronaVirusUpdate?src=hash&amp;ref_src=twsrc%5Etfw\">#CoronaVirusUpdate</a> <a href=\"https://t.co/3GAibFbONn\">pic.twitter.com/3GAibFbONn</a></p>— Pr. Alpha CONDÉ (@President_GN) <a href=\"https://twitter.com/President_GN/status/1240747558970036225?ref_src=twsrc%5Etfw\">March 19, 2020</a></blockquote>,\n",
              " <script async=\"\" charset=\"utf-8\" src=\"https://platform.twitter.com/widgets.js\"></script>,\n",
              " '\\n',\n",
              " '\\n',\n",
              " <blockquote class=\"twitter-tweet\" data-dnt=\"true\" data-width=\"550\"><p dir=\"ltr\" lang=\"en\"><a href=\"https://twitter.com/hashtag/GuineaBissau?src=hash&amp;ref_src=twsrc%5Etfw\">#GuineaBissau</a> 's borders closed.</p>— Umaro Sissoco Embalo (@USEmbalo) <a href=\"https://twitter.com/USEmbalo/status/1240009221669863425?ref_src=twsrc%5Etfw\">March 17, 2020</a></blockquote>,\n",
              " <script async=\"\" charset=\"utf-8\" src=\"https://platform.twitter.com/widgets.js\"></script>,\n",
              " '\\n',\n",
              " '\\n',\n",
              " <blockquote class=\"twitter-tweet\" data-dnt=\"true\" data-width=\"550\"><p dir=\"ltr\" lang=\"fr\">Communiqué intégrale du Conseil Extraordinaire de Défense présidé ce 17 Mars par le Chef de l’Etat sur le <a href=\"https://twitter.com/hashtag/coronavirus?src=hash&amp;ref_src=twsrc%5Etfw\">#coronavirus</a> <a href=\"https://t.co/i3AOlM8Jk7\">pic.twitter.com/i3AOlM8Jk7</a></p>— Presidence Mali (@PresidenceMali) <a href=\"https://twitter.com/PresidenceMali/status/1240016297452331009?ref_src=twsrc%5Etfw\">March 17, 2020</a></blockquote>,\n",
              " <script async=\"\" charset=\"utf-8\" src=\"https://platform.twitter.com/widgets.js\"></script>,\n",
              " '\\n',\n",
              " '\\n',\n",
              " <blockquote class=\"twitter-tweet\" data-dnt=\"true\" data-width=\"550\"><p dir=\"ltr\" lang=\"fr\">Chers citoyens et résidents, <br/>Un cas de Covid-19 concernant un citoyen étranger ayant été confirmé, je voudrais vous rassurer que les dispositions ont été prises à tous les niveaux. Je vous engage à la prudence et au strict respect  des directives des autorités  compétentes.</p>— Mohamed Cheikh El Ghazouani محمد الشيخ الغزواني (@CheikhGhazouani) <a href=\"https://twitter.com/CheikhGhazouani/status/1238865788993507329?ref_src=twsrc%5Etfw\">March 14, 2020</a></blockquote>,\n",
              " <script async=\"\" charset=\"utf-8\" src=\"https://platform.twitter.com/widgets.js\"></script>,\n",
              " '\\n',\n",
              " '\\n',\n",
              " <blockquote class=\"twitter-tweet\" data-dnt=\"true\" data-width=\"550\"><p dir=\"ltr\" lang=\"fr\">Mes Chers Concitoyens, <br/>Depuis la grippe Espagnole, il y a un siècle, l’ humanité n’a pas connu un fléau sanitaire d’ une telle ampleur. Je le répète: il n’y a ni traitement, ni vaccin. Notre seule arme reste la prévention. <a href=\"https://t.co/akIhqXETrW\">https://t.co/akIhqXETrW</a></p>— Issoufou Mahamadou (@IssoufouMhm) <a href=\"https://twitter.com/IssoufouMhm/status/1240000723112398848?ref_src=twsrc%5Etfw\">March 17, 2020</a></blockquote>,\n",
              " <script async=\"\" charset=\"utf-8\" src=\"https://platform.twitter.com/widgets.js\"></script>,\n",
              " '\\n',\n",
              " '\\n',\n",
              " <blockquote class=\"twitter-tweet\" data-dnt=\"true\" data-width=\"550\"><p dir=\"ltr\" lang=\"en\">Protecting Nigerians from the Coronavirus is a key priority for us as a Government. We have the Ministry of Health and the Nigeria Center for Disease Control (NCDC) working round-the-clock with several other agencies, as well as State Governments, to ensure this.</p>— Muhammadu Buhari (@MBuhari) <a href=\"https://twitter.com/MBuhari/status/1241017438147354624?ref_src=twsrc%5Etfw\">March 20, 2020</a></blockquote>,\n",
              " <script async=\"\" charset=\"utf-8\" src=\"https://platform.twitter.com/widgets.js\"></script>,\n",
              " '\\n',\n",
              " '\\n',\n",
              " <blockquote class=\"twitter-tweet\" data-dnt=\"true\" data-width=\"550\"><p dir=\"ltr\" lang=\"en\">Dear President <a href=\"https://twitter.com/PaulKagame?ref_src=twsrc%5Etfw\">@PaulKagame</a>, I accept the challenge and encourage all people from Senegal and all contaminated countries to do as well against <a href=\"https://twitter.com/hashtag/COVID19?src=hash&amp;ref_src=twsrc%5Etfw\">#COVID19</a> <a href=\"https://twitter.com/hashtag/SafeHands?src=hash&amp;ref_src=twsrc%5Etfw\">#SafeHands</a><br/>What about you? <a href=\"https://t.co/1ga1ZCwYfb\">pic.twitter.com/1ga1ZCwYfb</a></p>— Macky Sall (@Macky_Sall) <a href=\"https://twitter.com/Macky_Sall/status/1239994958859382787?ref_src=twsrc%5Etfw\">March 17, 2020</a></blockquote>,\n",
              " <script async=\"\" charset=\"utf-8\" src=\"https://platform.twitter.com/widgets.js\"></script>,\n",
              " '\\n',\n",
              " '\\n',\n",
              " <blockquote class=\"twitter-tweet\" data-dnt=\"true\" data-width=\"550\"><p dir=\"ltr\" lang=\"en\">Although there are no confirmed <a href=\"https://twitter.com/hashtag/Coronavirus?src=hash&amp;ref_src=twsrc%5Etfw\">#Coronavirus</a> cases in <a href=\"https://twitter.com/hashtag/SierraLeone?src=hash&amp;ref_src=twsrc%5Etfw\">#SierraLeone</a> at this time, the Ministry of Health and Sanitation has activated the Emergency Operations Centre to Level 2 to coordinate initial preparedness and response. <br/>We have activated the Emergency contact number 117.</p>— President Julius Maada Bio (@PresidentBio) <a href=\"https://twitter.com/PresidentBio/status/1240383695627915267?ref_src=twsrc%5Etfw\">March 18, 2020</a></blockquote>,\n",
              " <script async=\"\" charset=\"utf-8\" src=\"https://platform.twitter.com/widgets.js\"></script>,\n",
              " '\\n',\n",
              " '\\n',\n",
              " <blockquote class=\"twitter-tweet\" data-dnt=\"true\" data-width=\"550\"><p dir=\"ltr\" lang=\"ca\">Manifestations coronavirus <a href=\"https://t.co/mdjyRWUuoq\">pic.twitter.com/mdjyRWUuoq</a></p>— Ministère de la Santé et de l'hygiène Publique (@MSPS_Togo) <a href=\"https://twitter.com/MSPS_Togo/status/1239881384732344325?ref_src=twsrc%5Etfw\">March 17, 2020</a></blockquote>,\n",
              " <script async=\"\" charset=\"utf-8\" src=\"https://platform.twitter.com/widgets.js\"></script>,\n",
              " '\\n']"
            ]
          },
          "metadata": {
            "tags": []
          },
          "execution_count": 101
        }
      ]
    },
    {
      "cell_type": "code",
      "metadata": {
        "id": "yeD0-OUL4oDo",
        "colab_type": "code",
        "colab": {}
      },
      "source": [
        ""
      ],
      "execution_count": null,
      "outputs": []
    },
    {
      "cell_type": "markdown",
      "metadata": {
        "id": "JRnNrcH44oDr",
        "colab_type": "text"
      },
      "source": [
        "## Web scrapping using bash script\n",
        "If the web site has a quite simple HTML, you can easily use curl to perform the request and then extract the needed values using bash commands grep, cut , sed, ..\n",
        "\n",
        "This tutorial is adapted from [this](https://medium.com/@LiliSousa/web-scraping-with-bash-690e4ee7f98d) medium article"
      ]
    },
    {
      "cell_type": "code",
      "metadata": {
        "id": "4U71Exhg4oDs",
        "colab_type": "code",
        "colab": {
          "base_uri": "https://localhost:8080/",
          "height": 102
        },
        "outputId": "5a41427e-c8eb-43b5-8ae3-4190a3d6906a"
      },
      "source": [
        "%%bash \n",
        "\n",
        "# curl the page and save content to tmp_file\n",
        "url = \"https://www.atlanticcouncil.org/blogs/africasource/african-leaders-respond-to-coronavirus-on-twitter/#east-africa\"\n",
        "curl -X GET $url -o tmp_file\n",
        "\n",
        "\n",
        "#!/bin/bash\n",
        "\n",
        "# write headers to CSV file\n",
        "echo \"Name, twitter_id\" >> extractData.csv\n",
        "n=\"1\"\n",
        "while [ $n -lt 2 ]\n",
        "do\n",
        "  \n",
        "  #get title\n",
        "  title=$(cat tmp_file | grep \"class=\\\"twitter-tweet\\\"\" | cut -d ';' -f1 )\n",
        "  echo $title\n",
        "  #get author\n",
        "  #twitter_id=$(cat tmp_file |grep -A1 \"class=\\\"css-901oao css-16my406 r-1qd0xha r-ad9z0x r-bcqeeo r-qvutc0\\\"\" | tail -1)\n",
        "\n",
        "  #echo \"$title, $twitter_id\" >> extractData.csv\n",
        "  #echo \"$title, $twitter_id\"\n",
        "    \n",
        "  n=$[$n+1]\n",
        "\n",
        "done"
      ],
      "execution_count": null,
      "outputs": [
        {
          "output_type": "stream",
          "text": [
            "\n"
          ],
          "name": "stdout"
        },
        {
          "output_type": "stream",
          "text": [
            "bash: line 3: url: command not found\n",
            "curl: no URL specified!\n",
            "curl: try 'curl --help' or 'curl --manual' for more information\n",
            "cat: tmp_file: No such file or directory\n"
          ],
          "name": "stderr"
        }
      ]
    },
    {
      "cell_type": "code",
      "metadata": {
        "id": "oLTIaGUY4oDu",
        "colab_type": "code",
        "colab": {}
      },
      "source": [
        ""
      ],
      "execution_count": null,
      "outputs": []
    }
  ]
}